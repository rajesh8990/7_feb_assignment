{
 "cells": [
  {
   "cell_type": "code",
   "execution_count": null,
   "id": "b03830bb-1b3f-41ae-9608-d6004f06400f",
   "metadata": {},
   "outputs": [],
   "source": [
    "\"\"\"\n",
    "Q.1 You are writing code for a company. The requirement of the company is that you create a \n",
    "    python function that will check whether the password entered by the user is correct or not.\n",
    "    The function should\n",
    "\n",
    "   take the password as input and return the string “Valid Password” if the entered password\n",
    "   below-given password guidelines else it should return “Invalid Password”.\n",
    "   follows the \n",
    "\n",
    "Note: 1. The Password should contain at least two uppercase letters and at least two \n",
    "      lowercase letters.\n",
    "      2. The Password should contain at least a number and three special characters.\n",
    "      3. The length of the password should be 10 characters long\n",
    "      \n",
    "      \n",
    "\"\"\"      \n",
    "\n"
   ]
  },
  {
   "cell_type": "code",
   "execution_count": 1,
   "id": "59a1475e-33d4-4077-b8fe-fdea74b38d92",
   "metadata": {},
   "outputs": [
    {
     "name": "stdin",
     "output_type": "stream",
     "text": [
      "Enter password : pinTU@#$12\n"
     ]
    },
    {
     "name": "stdout",
     "output_type": "stream",
     "text": [
      "Valid Password\n"
     ]
    }
   ],
   "source": [
    "def user_input(message):\n",
    "    \n",
    "    if len(message)!=10:\n",
    "        return \"Enter 10 digit \"\n",
    "    # check upper_case,lower_case,digit,spacial_charcter\n",
    "    # using generator function \n",
    "    check_upper=sum(1 for i in message if i.isupper())\n",
    "    check_lower=sum(1 for i in message if i.islower())\n",
    "    check_digit=sum(1 for i in message if i.isdigit())\n",
    "    check_special_char=sum(1 for i in message if not i.isalnum())\n",
    "    # check condition\n",
    "    if check_upper>=2 and check_lower>=2 and check_special_char>=3 and check_digit>=1  :\n",
    "        return \"Valid Password\"\n",
    "    else:\n",
    "        return \"Invalid Password : Enter 2 lower 2 upper case charcter and 3 special charcter \"\n",
    "message=input(\"Enter password :\")\n",
    "result=user_input(message)\n",
    "print(result)"
   ]
  },
  {
   "cell_type": "code",
   "execution_count": null,
   "id": "18e9f2b7-0f74-4ccc-ac0b-790657cac7b1",
   "metadata": {},
   "outputs": [],
   "source": []
  }
 ],
 "metadata": {
  "kernelspec": {
   "display_name": "Python 3 (ipykernel)",
   "language": "python",
   "name": "python3"
  },
  "language_info": {
   "codemirror_mode": {
    "name": "ipython",
    "version": 3
   },
   "file_extension": ".py",
   "mimetype": "text/x-python",
   "name": "python",
   "nbconvert_exporter": "python",
   "pygments_lexer": "ipython3",
   "version": "3.10.8"
  }
 },
 "nbformat": 4,
 "nbformat_minor": 5
}
