{
 "cells": [
  {
   "cell_type": "code",
   "execution_count": null,
   "id": "9a08db53-7833-46f2-a744-39cb51e83cdf",
   "metadata": {},
   "outputs": [],
   "source": [
    "\"\"\"\n",
    "Q2. Solve the below-given questions using at least one of the following: \n",
    "\n",
    "1. Lambda function\n",
    "2. Filter function\n",
    "3. Map function\n",
    "4. List Comprehension\n",
    " .Check if the string starts with a particular letter\n",
    " .Check if the string is numeric\n",
    " .Sort a list of tuples having fruit names and their quantity.\n",
    "  [(\"mango\",99),(\"orange\",80), (\"grapes\", 1000)]\n",
    " .Find the squares of numbers from 1 to 10\n",
    " .Find the cube root of numbers from 1 to 10\n",
    " .Check if a given number is even\n",
    " .Filter odd numbers from the given list.\n",
    "  [1,2,3,4,5,6,7,8,9,10]\n",
    " .Sort a list of integers into positive and negative integers lists.\n",
    "  [1,2,3,4,5,6,-1,-2,-3,-4,-5,0]\n",
    " \n",
    "\"\"\""
   ]
  },
  {
   "cell_type": "code",
   "execution_count": 3,
   "id": "45cf89c1-2270-4fb8-ab3a-47f08cc36686",
   "metadata": {},
   "outputs": [
    {
     "name": "stdin",
     "output_type": "stream",
     "text": [
      "Enter string : pintu\n"
     ]
    },
    {
     "name": "stdout",
     "output_type": "stream",
     "text": [
      "The string  does not start  particular latter 'H' :\n"
     ]
    }
   ],
   "source": [
    "# Check if the string starts with a particular letter\n",
    "num=input(\"Enter string :\")\n",
    "a=list(filter(lambda x:x.startswith(\"H\"),[num]))\n",
    "if a:\n",
    "    print(\"The string start with particular latter 'H':\",a)\n",
    "else:\n",
    "    print(\"The string  does not start  particular latter 'H' :\")\n",
    "    \n"
   ]
  },
  {
   "cell_type": "code",
   "execution_count": 8,
   "id": "3861f767-85cb-4fcc-8002-15b93d8a8dc6",
   "metadata": {},
   "outputs": [
    {
     "name": "stdin",
     "output_type": "stream",
     "text": [
      "Enter string : 123\n"
     ]
    },
    {
     "name": "stdout",
     "output_type": "stream",
     "text": [
      "The string is numeric : ['123']\n"
     ]
    }
   ],
   "source": [
    "# Check if the string is numeric\n",
    "num=input(\"Enter string :\")\n",
    "a=list(filter(lambda x:x.isdigit(),[num]))\n",
    "if a:\n",
    "    print(\"The string is numeric :\",a)\n",
    "else:\n",
    "    print(\"The string  is not numeric  :\")\n"
   ]
  },
  {
   "cell_type": "code",
   "execution_count": 9,
   "id": "65255276-69ad-4ff5-8147-3dbdd37ba2dd",
   "metadata": {},
   "outputs": [
    {
     "name": "stdout",
     "output_type": "stream",
     "text": [
      "Sorted fruits based on quantity: [('orange', 80), ('mango', 99), ('grapes', 1000)]\n"
     ]
    }
   ],
   "source": [
    "# Sort a list of tuples having fruit names and their quantity.\n",
    "fruits = [(\"mango\", 99), (\"orange\", 80), (\"grapes\", 1000)]\n",
    "\n",
    "# Sort the list of tuples based on the second element (quantity)\n",
    "sorted_fruits = sorted(fruits, key=lambda x: x[1])\n",
    "\n",
    "print(\"Sorted fruits based on quantity:\", sorted_fruits)\n",
    "\n"
   ]
  },
  {
   "cell_type": "code",
   "execution_count": 8,
   "id": "4e185de3-c74b-40eb-94b4-bd85ff5d97b7",
   "metadata": {},
   "outputs": [
    {
     "name": "stdout",
     "output_type": "stream",
     "text": [
      "[1, 4, 9, 16, 25, 36, 49, 64, 81, 100]\n"
     ]
    }
   ],
   "source": [
    "# Find the squares of numbers from 1 to 10\n",
    "num=range(1,11)\n",
    "result=map(lambda x:x**2,num)\n",
    "print(list(result))"
   ]
  },
  {
   "cell_type": "code",
   "execution_count": 13,
   "id": "ea2db260-039f-4684-a749-bb780c9690a3",
   "metadata": {},
   "outputs": [
    {
     "name": "stdout",
     "output_type": "stream",
     "text": [
      "[1, 8, 27, 64, 125, 216, 343, 512, 729, 1000]\n"
     ]
    }
   ],
   "source": [
    "# Find the cube root of numbers from 1 to 10\n",
    "num=range(1,11)\n",
    "result=map(lambda x:x**3,num)\n",
    "print(list(result))\n"
   ]
  },
  {
   "cell_type": "code",
   "execution_count": 30,
   "id": "f53e8108-7c50-4b13-bf75-466cc34de943",
   "metadata": {},
   "outputs": [
    {
     "name": "stdin",
     "output_type": "stream",
     "text": [
      "Enter number : 2\n"
     ]
    },
    {
     "name": "stdout",
     "output_type": "stream",
     "text": [
      "even\n"
     ]
    }
   ],
   "source": [
    "# Check if a given number is even\n",
    "num=int(input(\"Enter number :\"))\n",
    "even=list(filter(lambda x:x%2==0,[num]))\n",
    "if even:\n",
    "    print(\"even\")\n",
    "else:\n",
    "    print(\"odd\")\n",
    "    \n"
   ]
  },
  {
   "cell_type": "code",
   "execution_count": 16,
   "id": "2a6d25e4-ab8c-4a44-8526-543e4cbdb7dc",
   "metadata": {},
   "outputs": [
    {
     "name": "stdout",
     "output_type": "stream",
     "text": [
      "[1, 3, 5, 7, 9]\n"
     ]
    }
   ],
   "source": [
    "# Filter odd numbers from the given list.\n",
    "num=[1,2,3,4,5,6,7,8,9,10]\n",
    "def odd(x):\n",
    "    return x%2!=0\n",
    "num=[1,2,3,4,5,6,7,8,9,10]\n",
    "result=filter(odd,num)\n",
    "print(list(result))\n"
   ]
  },
  {
   "cell_type": "code",
   "execution_count": 62,
   "id": "784cff0d-6b96-4ebc-96b6-ba0f114301bb",
   "metadata": {},
   "outputs": [
    {
     "name": "stdout",
     "output_type": "stream",
     "text": [
      "Positive [1, 2, 3, 4, 5, 6]\n",
      "nNegative [-1, -2, -3, -4, -5]\n"
     ]
    }
   ],
   "source": [
    "# Sort a list of integers into positive and negative integers lists.\n",
    "num=[1,2,3,4,5,6,-1,-2,-3,-4,-5,0]\n",
    "# use list comprehenson\n",
    "positive=[i for i in num if i>0]\n",
    "negative=[i for i in num if i<0]\n",
    "print(\"Positive\",positive)\n",
    "print(\"nNegative\",negative)\n"
   ]
  },
  {
   "cell_type": "code",
   "execution_count": null,
   "id": "f8689270-2c61-49a9-b7f2-e3121c874a96",
   "metadata": {},
   "outputs": [],
   "source": []
  }
 ],
 "metadata": {
  "kernelspec": {
   "display_name": "Python 3 (ipykernel)",
   "language": "python",
   "name": "python3"
  },
  "language_info": {
   "codemirror_mode": {
    "name": "ipython",
    "version": 3
   },
   "file_extension": ".py",
   "mimetype": "text/x-python",
   "name": "python",
   "nbconvert_exporter": "python",
   "pygments_lexer": "ipython3",
   "version": "3.10.8"
  }
 },
 "nbformat": 4,
 "nbformat_minor": 5
}
